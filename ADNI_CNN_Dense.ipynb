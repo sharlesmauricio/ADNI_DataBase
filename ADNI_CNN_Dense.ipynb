{
 "cells": [
  {
   "cell_type": "code",
   "execution_count": 18,
   "metadata": {},
   "outputs": [
    {
     "name": "stdout",
     "output_type": "stream",
     "text": [
      "The autoreload extension is already loaded. To reload it, use:\n",
      "  %reload_ext autoreload\n"
     ]
    }
   ],
   "source": [
    "%load_ext autoreload\n",
    "%autoreload 2"
   ]
  },
  {
   "cell_type": "code",
   "execution_count": 3,
   "metadata": {},
   "outputs": [],
   "source": [
    "import os\n",
    "import cv2\n",
    "import tensorflow \n",
    "import numpy as np\n",
    "import pandas as pd\n",
    "import matplotlib.pyplot as plt\n",
    "import seaborn as sns\n",
    "import nibabel as nib\n",
    "import SimpleITK as sitk\n",
    "import shutil\n",
    "import tensorflow as tf\n",
    "from PIL import Image\n",
    "from sklearn.model_selection import train_test_split\n",
    "from sklearn.metrics import accuracy_score, confusion_matrix, classification_report, roc_auc_score\n",
    "from tensorflow.keras.layers import Input, Conv2D, MaxPooling2D, Flatten, Dense, Dropout\n",
    "from tensorflow.keras.preprocessing.image import ImageDataGenerator\n",
    "from tensorflow.keras.models import Sequential, Model\n",
    "from tensorflow.keras.applications import DenseNet121\n",
    "from tensorflow.keras.callbacks import EarlyStopping, ModelCheckpoint\n",
    "from tensorflow.keras.optimizers import Adam\n"
   ]
  },
  {
   "cell_type": "markdown",
   "metadata": {},
   "source": [
    "Normalização e tratamento do dataset"
   ]
  },
  {
   "cell_type": "code",
   "execution_count": 2,
   "metadata": {},
   "outputs": [],
   "source": [
    "diretorio = 'C:/Users/User/Documents/ADNI/Img_ADNI/'\n",
    "\n",
    "arquivos = os.listdir(diretorio)\n",
    "\n",
    "rotulos = {}\n",
    "# incluir os rótulos e converter em número\n",
    "for arquivo in arquivos:\n",
    "    if arquivo.startswith('NC'):\n",
    "        rotulos[arquivo] = 0  # Rótulo 1 para NC\n",
    "    elif arquivo.startswith('MCI'):\n",
    "        rotulos[arquivo] = 1  # Rótulo 2 para MCI\n",
    "    elif arquivo.startswith('DA'):\n",
    "        rotulos[arquivo] = 2  # Rótulo 3 para DA\n",
    "\n",
    "imagens = []\n",
    "labels = []\n",
    "\n",
    "for arquivo in arquivos:\n",
    "    caminho = os.path.join(diretorio, arquivo)\n",
    "    imagem = cv2.imread(caminho) \n",
    "    imagem = cv2.cvtColor(imagem, cv2.COLOR_BGR2RGB)  # Converte para RGB\n",
    "    imagem = cv2.resize(imagem, (128, 128))\n",
    "    imagens.append(imagem)\n",
    "    labels.append(rotulos[arquivo])\n",
    "\n",
    "imagens = np.array(imagens)\n",
    "labels = np.array(labels)\n",
    "\n"
   ]
  },
  {
   "cell_type": "code",
   "execution_count": 4,
   "metadata": {},
   "outputs": [
    {
     "ename": "NameError",
     "evalue": "name 'to_categorical' is not defined",
     "output_type": "error",
     "traceback": [
      "\u001b[1;31m---------------------------------------------------------------------------\u001b[0m",
      "\u001b[1;31mNameError\u001b[0m                                 Traceback (most recent call last)",
      "Cell \u001b[1;32mIn[4], line 3\u001b[0m\n\u001b[0;32m      1\u001b[0m imagens \u001b[38;5;241m=\u001b[39m imagens \u001b[38;5;241m/\u001b[39m \u001b[38;5;241m255.0\u001b[39m\n\u001b[0;32m      2\u001b[0m imagens \u001b[38;5;241m=\u001b[39m np\u001b[38;5;241m.\u001b[39mexpand_dims(imagens, axis\u001b[38;5;241m=\u001b[39m\u001b[38;5;241m-\u001b[39m\u001b[38;5;241m1\u001b[39m)  \n\u001b[1;32m----> 3\u001b[0m labels \u001b[38;5;241m=\u001b[39m \u001b[43mto_categorical\u001b[49m(labels, num_classes\u001b[38;5;241m=\u001b[39m\u001b[38;5;241m3\u001b[39m)\n\u001b[0;32m      5\u001b[0m \u001b[38;5;66;03m# Dividir os dados treinamento e teste\u001b[39;00m\n\u001b[0;32m      6\u001b[0m X_train, X_test, y_train, y_test \u001b[38;5;241m=\u001b[39m train_test_split(imagens, labels, test_size\u001b[38;5;241m=\u001b[39m\u001b[38;5;241m0.2\u001b[39m, random_state\u001b[38;5;241m=\u001b[39m\u001b[38;5;241m42\u001b[39m)\n",
      "\u001b[1;31mNameError\u001b[0m: name 'to_categorical' is not defined"
     ]
    }
   ],
   "source": [
    "\n",
    "imagens = imagens / 255.0\n",
    "imagens = np.expand_dims(imagens, axis=-1)  \n",
    "labels = to_categorical(labels, num_classes=3)\n",
    "\n",
    "# Dividir os dados treinamento e teste\n",
    "X_train, X_test, y_train, y_test = train_test_split(imagens, labels, test_size=0.2, random_state=42)\n",
    "\n",
    "# Exibir algumas informações sobre os dados\n",
    "print(f'Número total de imagens: {len(imagens)}')\n",
    "print(f'Dimensões das imagens: {imagens.shape[1:]}')\n",
    "print(f'Número de classes: {labels.shape[1]}')"
   ]
  },
  {
   "cell_type": "markdown",
   "metadata": {},
   "source": [
    "Modelo CNN"
   ]
  },
  {
   "cell_type": "code",
   "execution_count": 30,
   "metadata": {},
   "outputs": [
    {
     "name": "stdout",
     "output_type": "stream",
     "text": [
      "Epoch 1/10\n",
      "\u001b[1m40/40\u001b[0m \u001b[32m━━━━━━━━━━━━━━━━━━━━\u001b[0m\u001b[37m\u001b[0m \u001b[1m8s\u001b[0m 148ms/step - loss: 3.4698 - output_da_accuracy: 0.3082 - output_mci_accuracy: 0.3236 - output_nc_accuracy: 0.3337 - val_loss: 3.2975 - val_output_da_accuracy: 0.3270 - val_output_mci_accuracy: 0.3238 - val_output_nc_accuracy: 0.3206\n",
      "Epoch 2/10\n",
      "\u001b[1m40/40\u001b[0m \u001b[32m━━━━━━━━━━━━━━━━━━━━\u001b[0m\u001b[37m\u001b[0m \u001b[1m6s\u001b[0m 138ms/step - loss: 3.2905 - output_da_accuracy: 0.3727 - output_mci_accuracy: 0.3685 - output_nc_accuracy: 0.3639 - val_loss: 3.2940 - val_output_da_accuracy: 0.3619 - val_output_mci_accuracy: 0.3429 - val_output_nc_accuracy: 0.3587\n",
      "Epoch 3/10\n",
      "\u001b[1m40/40\u001b[0m \u001b[32m━━━━━━━━━━━━━━━━━━━━\u001b[0m\u001b[37m\u001b[0m \u001b[1m6s\u001b[0m 137ms/step - loss: 3.2719 - output_da_accuracy: 0.4056 - output_mci_accuracy: 0.3871 - output_nc_accuracy: 0.3913 - val_loss: 3.3105 - val_output_da_accuracy: 0.3429 - val_output_mci_accuracy: 0.3587 - val_output_nc_accuracy: 0.3333\n",
      "Epoch 4/10\n",
      "\u001b[1m40/40\u001b[0m \u001b[32m━━━━━━━━━━━━━━━━━━━━\u001b[0m\u001b[37m\u001b[0m \u001b[1m6s\u001b[0m 140ms/step - loss: 3.2059 - output_da_accuracy: 0.4439 - output_mci_accuracy: 0.4036 - output_nc_accuracy: 0.4279 - val_loss: 3.3554 - val_output_da_accuracy: 0.3397 - val_output_mci_accuracy: 0.3397 - val_output_nc_accuracy: 0.3460\n",
      "Epoch 5/10\n",
      "\u001b[1m40/40\u001b[0m \u001b[32m━━━━━━━━━━━━━━━━━━━━\u001b[0m\u001b[37m\u001b[0m \u001b[1m6s\u001b[0m 141ms/step - loss: 3.0197 - output_da_accuracy: 0.5227 - output_mci_accuracy: 0.4890 - output_nc_accuracy: 0.5014 - val_loss: 3.5476 - val_output_da_accuracy: 0.3206 - val_output_mci_accuracy: 0.3238 - val_output_nc_accuracy: 0.3238\n",
      "Epoch 6/10\n",
      "\u001b[1m40/40\u001b[0m \u001b[32m━━━━━━━━━━━━━━━━━━━━\u001b[0m\u001b[37m\u001b[0m \u001b[1m6s\u001b[0m 142ms/step - loss: 2.8320 - output_da_accuracy: 0.5902 - output_mci_accuracy: 0.5448 - output_nc_accuracy: 0.5753 - val_loss: 3.7484 - val_output_da_accuracy: 0.3651 - val_output_mci_accuracy: 0.3492 - val_output_nc_accuracy: 0.3460\n",
      "Epoch 7/10\n",
      "\u001b[1m40/40\u001b[0m \u001b[32m━━━━━━━━━━━━━━━━━━━━\u001b[0m\u001b[37m\u001b[0m \u001b[1m6s\u001b[0m 143ms/step - loss: 2.6272 - output_da_accuracy: 0.5901 - output_mci_accuracy: 0.5938 - output_nc_accuracy: 0.5867 - val_loss: 3.8033 - val_output_da_accuracy: 0.3524 - val_output_mci_accuracy: 0.3397 - val_output_nc_accuracy: 0.3460\n",
      "Epoch 8/10\n",
      "\u001b[1m40/40\u001b[0m \u001b[32m━━━━━━━━━━━━━━━━━━━━\u001b[0m\u001b[37m\u001b[0m \u001b[1m6s\u001b[0m 148ms/step - loss: 2.3673 - output_da_accuracy: 0.6506 - output_mci_accuracy: 0.6372 - output_nc_accuracy: 0.6499 - val_loss: 4.2906 - val_output_da_accuracy: 0.3365 - val_output_mci_accuracy: 0.3206 - val_output_nc_accuracy: 0.3333\n",
      "Epoch 9/10\n",
      "\u001b[1m40/40\u001b[0m \u001b[32m━━━━━━━━━━━━━━━━━━━━\u001b[0m\u001b[37m\u001b[0m \u001b[1m6s\u001b[0m 151ms/step - loss: 2.1331 - output_da_accuracy: 0.6700 - output_mci_accuracy: 0.6761 - output_nc_accuracy: 0.6735 - val_loss: 4.7105 - val_output_da_accuracy: 0.3492 - val_output_mci_accuracy: 0.3429 - val_output_nc_accuracy: 0.3556\n",
      "Epoch 10/10\n",
      "\u001b[1m40/40\u001b[0m \u001b[32m━━━━━━━━━━━━━━━━━━━━\u001b[0m\u001b[37m\u001b[0m \u001b[1m6s\u001b[0m 145ms/step - loss: 1.8644 - output_da_accuracy: 0.7189 - output_mci_accuracy: 0.7299 - output_nc_accuracy: 0.7203 - val_loss: 5.1951 - val_output_da_accuracy: 0.3206 - val_output_mci_accuracy: 0.3365 - val_output_nc_accuracy: 0.3302\n"
     ]
    }
   ],
   "source": [
    "def build_cnn_model(input_shape):\n",
    "    input_layer = Input(shape=input_shape)\n",
    "    conv1 = Conv2D(32, (3, 3), activation='relu')(input_layer)\n",
    "    pool1 = MaxPooling2D((2, 2))(conv1)\n",
    "    conv2 = Conv2D(64, (3, 3), activation='relu')(pool1)\n",
    "    pool2 = MaxPooling2D((2, 2))(conv2)\n",
    "    flatten = Flatten()(pool2)\n",
    "    dense1 = Dense(128, activation='relu')(flatten)\n",
    "    \n",
    "    output_nc = Dense(3, activation='softmax', name='output_nc')(dense1)\n",
    "    output_mci = Dense(3, activation='softmax', name='output_mci')(dense1)\n",
    "    output_da = Dense(3, activation='softmax', name='output_da')(dense1)\n",
    "    \n",
    "    model = Model(inputs=input_layer, outputs=[output_nc, output_mci, output_da])\n",
    "    return model\n",
    "\n",
    "model_cnn = build_cnn_model((128, 128, 3))\n",
    "\n",
    "model_cnn.compile(optimizer='adam',\n",
    "                  loss={'output_nc': 'categorical_crossentropy',\n",
    "                        'output_mci': 'categorical_crossentropy',\n",
    "                        'output_da': 'categorical_crossentropy'},\n",
    "                  metrics={'output_nc': 'accuracy',\n",
    "                           'output_mci': 'accuracy',\n",
    "                           'output_da': 'accuracy'})\n",
    "\n",
    "history_cnn = model_cnn.fit(X_train, {'output_nc': y_train, 'output_mci': y_train, 'output_da': y_train},\n",
    "                            validation_data=(X_test, {'output_nc': y_test, 'output_mci': y_test, 'output_da': y_test}),\n",
    "                            epochs=10, batch_size=32)\n",
    "\n"
   ]
  },
  {
   "cell_type": "markdown",
   "metadata": {},
   "source": [
    "Modelo Densenet"
   ]
  },
  {
   "cell_type": "code",
   "execution_count": 33,
   "metadata": {},
   "outputs": [
    {
     "name": "stdout",
     "output_type": "stream",
     "text": [
      "Epoch 1/10\n",
      "\u001b[1m4/4\u001b[0m \u001b[32m━━━━━━━━━━━━━━━━━━━━\u001b[0m\u001b[37m\u001b[0m \u001b[1m2s\u001b[0m 193ms/step - loss: 15.6310 - output_da_densenet_accuracy: 0.3610 - output_mci_densenet_accuracy: 0.3755 - output_nc_densenet_accuracy: 0.4143 - val_loss: 54.7232 - val_output_da_densenet_accuracy: 0.4500 - val_output_mci_densenet_accuracy: 0.4500 - val_output_nc_densenet_accuracy: 0.4500\n",
      "Epoch 2/10\n",
      "\u001b[1m4/4\u001b[0m \u001b[32m━━━━━━━━━━━━━━━━━━━━\u001b[0m\u001b[37m\u001b[0m \u001b[1m1s\u001b[0m 121ms/step - loss: 58.4201 - output_da_densenet_accuracy: 0.5035 - output_mci_densenet_accuracy: 0.3728 - output_nc_densenet_accuracy: 0.2722 - val_loss: 100.4456 - val_output_da_densenet_accuracy: 0.1000 - val_output_mci_densenet_accuracy: 0.4500 - val_output_nc_densenet_accuracy: 0.4500\n",
      "Epoch 3/10\n",
      "\u001b[1m4/4\u001b[0m \u001b[32m━━━━━━━━━━━━━━━━━━━━\u001b[0m\u001b[37m\u001b[0m \u001b[1m1s\u001b[0m 119ms/step - loss: 89.9998 - output_da_densenet_accuracy: 0.1244 - output_mci_densenet_accuracy: 0.4293 - output_nc_densenet_accuracy: 0.5066 - val_loss: 162.4260 - val_output_da_densenet_accuracy: 0.4500 - val_output_mci_densenet_accuracy: 0.1000 - val_output_nc_densenet_accuracy: 0.1000\n",
      "Epoch 4/10\n",
      "\u001b[1m4/4\u001b[0m \u001b[32m━━━━━━━━━━━━━━━━━━━━\u001b[0m\u001b[37m\u001b[0m \u001b[1m1s\u001b[0m 122ms/step - loss: 147.2160 - output_da_densenet_accuracy: 0.4191 - output_mci_densenet_accuracy: 0.2078 - output_nc_densenet_accuracy: 0.1633 - val_loss: 249.2669 - val_output_da_densenet_accuracy: 0.1000 - val_output_mci_densenet_accuracy: 0.1000 - val_output_nc_densenet_accuracy: 0.1000\n",
      "Epoch 5/10\n",
      "\u001b[1m4/4\u001b[0m \u001b[32m━━━━━━━━━━━━━━━━━━━━\u001b[0m\u001b[37m\u001b[0m \u001b[1m1s\u001b[0m 122ms/step - loss: 224.4658 - output_da_densenet_accuracy: 0.3352 - output_mci_densenet_accuracy: 0.3352 - output_nc_densenet_accuracy: 0.2657 - val_loss: 372.7536 - val_output_da_densenet_accuracy: 0.1000 - val_output_mci_densenet_accuracy: 0.4500 - val_output_nc_densenet_accuracy: 0.1000\n",
      "Epoch 6/10\n",
      "\u001b[1m4/4\u001b[0m \u001b[32m━━━━━━━━━━━━━━━━━━━━\u001b[0m\u001b[37m\u001b[0m \u001b[1m1s\u001b[0m 120ms/step - loss: 339.0935 - output_da_densenet_accuracy: 0.1258 - output_mci_densenet_accuracy: 0.3633 - output_nc_densenet_accuracy: 0.1991 - val_loss: 541.7256 - val_output_da_densenet_accuracy: 0.4500 - val_output_mci_densenet_accuracy: 0.1000 - val_output_nc_densenet_accuracy: 0.4500\n",
      "Epoch 7/10\n",
      "\u001b[1m4/4\u001b[0m \u001b[32m━━━━━━━━━━━━━━━━━━━━\u001b[0m\u001b[37m\u001b[0m \u001b[1m1s\u001b[0m 124ms/step - loss: 491.9689 - output_da_densenet_accuracy: 0.4816 - output_mci_densenet_accuracy: 0.2625 - output_nc_densenet_accuracy: 0.4776 - val_loss: 762.5264 - val_output_da_densenet_accuracy: 0.4500 - val_output_mci_densenet_accuracy: 0.4500 - val_output_nc_densenet_accuracy: 0.4500\n",
      "Epoch 8/10\n",
      "\u001b[1m4/4\u001b[0m \u001b[32m━━━━━━━━━━━━━━━━━━━━\u001b[0m\u001b[37m\u001b[0m \u001b[1m1s\u001b[0m 121ms/step - loss: 711.7527 - output_da_densenet_accuracy: 0.2590 - output_mci_densenet_accuracy: 0.4262 - output_nc_densenet_accuracy: 0.3330 - val_loss: 830.3544 - val_output_da_densenet_accuracy: 0.4500 - val_output_mci_densenet_accuracy: 0.4500 - val_output_nc_densenet_accuracy: 0.4500\n",
      "Epoch 9/10\n",
      "\u001b[1m4/4\u001b[0m \u001b[32m━━━━━━━━━━━━━━━━━━━━\u001b[0m\u001b[37m\u001b[0m \u001b[1m1s\u001b[0m 122ms/step - loss: 724.8726 - output_da_densenet_accuracy: 0.4618 - output_mci_densenet_accuracy: 0.2387 - output_nc_densenet_accuracy: 0.2077 - val_loss: 959.0641 - val_output_da_densenet_accuracy: 0.1000 - val_output_mci_densenet_accuracy: 0.4500 - val_output_nc_densenet_accuracy: 0.4500\n",
      "Epoch 10/10\n",
      "\u001b[1m4/4\u001b[0m \u001b[32m━━━━━━━━━━━━━━━━━━━━\u001b[0m\u001b[37m\u001b[0m \u001b[1m1s\u001b[0m 121ms/step - loss: 906.1263 - output_da_densenet_accuracy: 0.1706 - output_mci_densenet_accuracy: 0.3995 - output_nc_densenet_accuracy: 0.3955 - val_loss: 770.4469 - val_output_da_densenet_accuracy: 0.1000 - val_output_mci_densenet_accuracy: 0.1000 - val_output_nc_densenet_accuracy: 0.1000\n"
     ]
    }
   ],
   "source": [
    "def build_densenet_model(input_shape):\n",
    "    input_layer = Input(shape=input_shape)\n",
    "    conv1 = Conv2D(32, (3, 3), activation='relu')(input_layer)\n",
    "    pool1 = MaxPooling2D((2, 2))(conv1)\n",
    "    conv2 = Conv2D(64, (3, 3), activation='relu')(pool1)\n",
    "    pool2 = MaxPooling2D((2, 2))(conv2)\n",
    "    flatten = Flatten()(pool2)\n",
    "    dense1 = Dense(128, activation='relu')(flatten)\n",
    "    \n",
    "    output_nc = Dense(3, activation='softmax', name='output_nc_densenet')(dense1)\n",
    "    output_mci = Dense(3, activation='softmax', name='output_mci_densenet')(dense1)\n",
    "    output_da = Dense(3, activation='softmax', name='output_da_densenet')(dense1)\n",
    "    \n",
    "    model = Model(inputs=input_layer, outputs=[output_nc, output_mci, output_da])\n",
    "    return model\n",
    "\n",
    "model_densenet = build_densenet_model((128, 128, 1))  # Input shape (128, 128, 1) para imagens em escala de cinza\n",
    "\n",
    "model_densenet.compile(optimizer='adam',\n",
    "                       loss={'output_nc_densenet': 'categorical_crossentropy',\n",
    "                             'output_mci_densenet': 'categorical_crossentropy',\n",
    "                             'output_da_densenet': 'categorical_crossentropy'},\n",
    "                       metrics={'output_nc_densenet': 'accuracy',\n",
    "                                'output_mci_densenet': 'accuracy',\n",
    "                                'output_da_densenet': 'accuracy'})\n",
    "\n",
    "history_densenet = model_densenet.fit(X_train, {'output_nc_densenet': y_train, 'output_mci_densenet': y_train, 'output_da_densenet': y_train},\n",
    "                                      validation_data=(X_test, {'output_nc_densenet': y_test, 'output_mci_densenet': y_test, 'output_da_densenet': y_test}),\n",
    "                                      epochs=10, batch_size=32)\n"
   ]
  },
  {
   "cell_type": "markdown",
   "metadata": {},
   "source": [
    "Combinação dos modelos"
   ]
  },
  {
   "cell_type": "code",
   "execution_count": 37,
   "metadata": {},
   "outputs": [
    {
     "ename": "NameError",
     "evalue": "name 'Average' is not defined",
     "output_type": "error",
     "traceback": [
      "\u001b[1;31m---------------------------------------------------------------------------\u001b[0m",
      "\u001b[1;31mNameError\u001b[0m                                 Traceback (most recent call last)",
      "Cell \u001b[1;32mIn[37], line 10\u001b[0m\n\u001b[0;32m      6\u001b[0m output_cnn \u001b[38;5;241m=\u001b[39m model_cnn(input_layer_combined)\n\u001b[0;32m      7\u001b[0m output_densenet \u001b[38;5;241m=\u001b[39m model_densenet(input_layer_combined)\n\u001b[0;32m      9\u001b[0m combined_output_nc \u001b[38;5;241m=\u001b[39m Dense(\u001b[38;5;241m3\u001b[39m, activation\u001b[38;5;241m=\u001b[39m\u001b[38;5;124m'\u001b[39m\u001b[38;5;124msoftmax\u001b[39m\u001b[38;5;124m'\u001b[39m, name\u001b[38;5;241m=\u001b[39m\u001b[38;5;124m'\u001b[39m\u001b[38;5;124mcombined_output_nc\u001b[39m\u001b[38;5;124m'\u001b[39m)(\n\u001b[1;32m---> 10\u001b[0m     \u001b[43mAverage\u001b[49m()([output_cnn[\u001b[38;5;241m0\u001b[39m], output_densenet[\u001b[38;5;241m0\u001b[39m]]))  \u001b[38;5;66;03m# Exemplo de combinação usando média simples\u001b[39;00m\n\u001b[0;32m     11\u001b[0m combined_output_mci \u001b[38;5;241m=\u001b[39m Dense(\u001b[38;5;241m3\u001b[39m, activation\u001b[38;5;241m=\u001b[39m\u001b[38;5;124m'\u001b[39m\u001b[38;5;124msoftmax\u001b[39m\u001b[38;5;124m'\u001b[39m, name\u001b[38;5;241m=\u001b[39m\u001b[38;5;124m'\u001b[39m\u001b[38;5;124mcombined_output_mci\u001b[39m\u001b[38;5;124m'\u001b[39m)(\n\u001b[0;32m     12\u001b[0m     Average()([output_cnn[\u001b[38;5;241m1\u001b[39m], output_densenet[\u001b[38;5;241m1\u001b[39m]]))\n\u001b[0;32m     13\u001b[0m combined_output_da \u001b[38;5;241m=\u001b[39m Dense(\u001b[38;5;241m3\u001b[39m, activation\u001b[38;5;241m=\u001b[39m\u001b[38;5;124m'\u001b[39m\u001b[38;5;124msoftmax\u001b[39m\u001b[38;5;124m'\u001b[39m, name\u001b[38;5;241m=\u001b[39m\u001b[38;5;124m'\u001b[39m\u001b[38;5;124mcombined_output_da\u001b[39m\u001b[38;5;124m'\u001b[39m)(\n\u001b[0;32m     14\u001b[0m     Average()([output_cnn[\u001b[38;5;241m2\u001b[39m], output_densenet[\u001b[38;5;241m2\u001b[39m]]))\n",
      "\u001b[1;31mNameError\u001b[0m: name 'Average' is not defined"
     ]
    }
   ],
   "source": [
    "from tensorflow.keras.models import Sequential\n",
    "from tensorflow.keras.layers import Conv2D, MaxPooling2D, Flatten, Dense, AveragePooling2D\n",
    "\n",
    "input_layer_combined = Input(shape=(128, 128, 3))\n",
    "\n",
    "output_cnn = model_cnn(input_layer_combined)\n",
    "output_densenet = model_densenet(input_layer_combined)\n",
    "\n",
    "combined_output_nc = Dense(3, activation='softmax', name='combined_output_nc')(\n",
    "    Average()([output_cnn[0], output_densenet[0]])) \n",
    "combined_output_mci = Dense(3, activation='softmax', name='combined_output_mci')(\n",
    "    Average()([output_cnn[1], output_densenet[1]]))\n",
    "combined_output_da = Dense(3, activation='softmax', name='combined_output_da')(\n",
    "    Average()([output_cnn[2], output_densenet[2]]))\n",
    "\n",
    "\n",
    "model_combined = Model(inputs=input_layer_combined,\n",
    "                       outputs=[combined_output_nc, combined_output_mci, combined_output_da])\n",
    "\n",
    "\n",
    "model_combined.compile(optimizer='adam',\n",
    "                       loss={'combined_output_nc': 'categorical_crossentropy',\n",
    "                             'combined_output_mci': 'categorical_crossentropy',\n",
    "                             'combined_output_da': 'categorical_crossentropy'},\n",
    "                       metrics={'combined_output_nc': 'accuracy',\n",
    "                                'combined_output_mci': 'accuracy',\n",
    "                                'combined_output_da': 'accuracy'})\n",
    "\n",
    "\n"
   ]
  },
  {
   "cell_type": "code",
   "execution_count": 71,
   "metadata": {},
   "outputs": [
    {
     "name": "stdout",
     "output_type": "stream",
     "text": [
      "Epoch 1/10\n",
      "\u001b[1m4/4\u001b[0m \u001b[32m━━━━━━━━━━━━━━━━━━━━\u001b[0m\u001b[37m\u001b[0m \u001b[1m1s\u001b[0m 135ms/step - loss: 12165.0029 - output_da_accuracy: 0.5137 - output_mci_accuracy: 0.5095 - output_nc_accuracy: 0.2537 - val_loss: 10446.4404 - val_output_da_accuracy: 0.2000 - val_output_mci_accuracy: 0.4000 - val_output_nc_accuracy: 0.2000\n",
      "Epoch 2/10\n",
      "\u001b[1m4/4\u001b[0m \u001b[32m━━━━━━━━━━━━━━━━━━━━\u001b[0m\u001b[37m\u001b[0m \u001b[1m1s\u001b[0m 131ms/step - loss: 16764.6250 - output_da_accuracy: 0.2081 - output_mci_accuracy: 0.2545 - output_nc_accuracy: 0.2041 - val_loss: 14189.1768 - val_output_da_accuracy: 0.4000 - val_output_mci_accuracy: 0.4000 - val_output_nc_accuracy: 0.4000\n",
      "Epoch 3/10\n",
      "\u001b[1m4/4\u001b[0m \u001b[32m━━━━━━━━━━━━━━━━━━━━\u001b[0m\u001b[37m\u001b[0m \u001b[1m1s\u001b[0m 125ms/step - loss: 22777.6094 - output_da_accuracy: 0.2283 - output_mci_accuracy: 0.4815 - output_nc_accuracy: 0.2161 - val_loss: 17994.1367 - val_output_da_accuracy: 0.2000 - val_output_mci_accuracy: 0.4000 - val_output_nc_accuracy: 0.2000\n",
      "Epoch 4/10\n",
      "\u001b[1m4/4\u001b[0m \u001b[32m━━━━━━━━━━━━━━━━━━━━\u001b[0m\u001b[37m\u001b[0m \u001b[1m1s\u001b[0m 130ms/step - loss: 27501.5879 - output_da_accuracy: 0.3374 - output_mci_accuracy: 0.4494 - output_nc_accuracy: 0.2304 - val_loss: 22587.8613 - val_output_da_accuracy: 0.4000 - val_output_mci_accuracy: 0.2000 - val_output_nc_accuracy: 0.2000\n",
      "Epoch 5/10\n",
      "\u001b[1m4/4\u001b[0m \u001b[32m━━━━━━━━━━━━━━━━━━━━\u001b[0m\u001b[37m\u001b[0m \u001b[1m1s\u001b[0m 127ms/step - loss: 33230.3320 - output_da_accuracy: 0.3603 - output_mci_accuracy: 0.2059 - output_nc_accuracy: 0.2179 - val_loss: 27327.1504 - val_output_da_accuracy: 0.4000 - val_output_mci_accuracy: 0.2000 - val_output_nc_accuracy: 0.2000\n",
      "Epoch 6/10\n",
      "\u001b[1m4/4\u001b[0m \u001b[32m━━━━━━━━━━━━━━━━━━━━\u001b[0m\u001b[37m\u001b[0m \u001b[1m1s\u001b[0m 126ms/step - loss: 39144.6719 - output_da_accuracy: 0.2708 - output_mci_accuracy: 0.2408 - output_nc_accuracy: 0.2408 - val_loss: 35297.5352 - val_output_da_accuracy: 0.4000 - val_output_mci_accuracy: 0.2000 - val_output_nc_accuracy: 0.2000\n",
      "Epoch 7/10\n",
      "\u001b[1m4/4\u001b[0m \u001b[32m━━━━━━━━━━━━━━━━━━━━\u001b[0m\u001b[37m\u001b[0m \u001b[1m1s\u001b[0m 135ms/step - loss: 52808.3359 - output_da_accuracy: 0.4319 - output_mci_accuracy: 0.1793 - output_nc_accuracy: 0.1793 - val_loss: 44311.2305 - val_output_da_accuracy: 0.2000 - val_output_mci_accuracy: 0.2000 - val_output_nc_accuracy: 0.2000\n",
      "Epoch 8/10\n",
      "\u001b[1m4/4\u001b[0m \u001b[32m━━━━━━━━━━━━━━━━━━━━\u001b[0m\u001b[37m\u001b[0m \u001b[1m1s\u001b[0m 129ms/step - loss: 63349.5586 - output_da_accuracy: 0.2941 - output_mci_accuracy: 0.2901 - output_nc_accuracy: 0.2165 - val_loss: 52586.7578 - val_output_da_accuracy: 0.4000 - val_output_mci_accuracy: 0.2000 - val_output_nc_accuracy: 0.2000\n",
      "Epoch 9/10\n",
      "\u001b[1m4/4\u001b[0m \u001b[32m━━━━━━━━━━━━━━━━━━━━\u001b[0m\u001b[37m\u001b[0m \u001b[1m1s\u001b[0m 121ms/step - loss: 76191.7578 - output_da_accuracy: 0.4175 - output_mci_accuracy: 0.1793 - output_nc_accuracy: 0.2026 - val_loss: 57658.7109 - val_output_da_accuracy: 0.2000 - val_output_mci_accuracy: 0.2000 - val_output_nc_accuracy: 0.2000\n",
      "Epoch 10/10\n",
      "\u001b[1m4/4\u001b[0m \u001b[32m━━━━━━━━━━━━━━━━━━━━\u001b[0m\u001b[37m\u001b[0m \u001b[1m0s\u001b[0m 115ms/step - loss: 85166.7969 - output_da_accuracy: 0.2156 - output_mci_accuracy: 0.2714 - output_nc_accuracy: 0.2196 - val_loss: 63709.4453 - val_output_da_accuracy: 0.4000 - val_output_mci_accuracy: 0.2000 - val_output_nc_accuracy: 0.2000\n",
      "Epoch 1/10\n",
      "\u001b[1m4/4\u001b[0m \u001b[32m━━━━━━━━━━━━━━━━━━━━\u001b[0m\u001b[37m\u001b[0m \u001b[1m1s\u001b[0m 128ms/step - loss: 830.5603 - output_da_densenet_accuracy: 0.3011 - output_mci_densenet_accuracy: 0.3087 - output_nc_densenet_accuracy: 0.5175 - val_loss: 912.9375 - val_output_da_densenet_accuracy: 0.4000 - val_output_mci_densenet_accuracy: 0.2000 - val_output_nc_densenet_accuracy: 0.2000\n",
      "Epoch 2/10\n",
      "\u001b[1m4/4\u001b[0m \u001b[32m━━━━━━━━━━━━━━━━━━━━\u001b[0m\u001b[37m\u001b[0m \u001b[1m0s\u001b[0m 122ms/step - loss: 1074.2983 - output_da_densenet_accuracy: 0.2983 - output_mci_densenet_accuracy: 0.2177 - output_nc_densenet_accuracy: 0.1877 - val_loss: 1288.2532 - val_output_da_densenet_accuracy: 0.4000 - val_output_mci_densenet_accuracy: 0.4000 - val_output_nc_densenet_accuracy: 0.4000\n",
      "Epoch 3/10\n",
      "\u001b[1m4/4\u001b[0m \u001b[32m━━━━━━━━━━━━━━━━━━━━\u001b[0m\u001b[37m\u001b[0m \u001b[1m1s\u001b[0m 121ms/step - loss: 1982.8986 - output_da_densenet_accuracy: 0.3737 - output_mci_densenet_accuracy: 0.4501 - output_nc_densenet_accuracy: 0.3499 - val_loss: 1126.2278 - val_output_da_densenet_accuracy: 0.4000 - val_output_mci_densenet_accuracy: 0.4000 - val_output_nc_densenet_accuracy: 0.4000\n",
      "Epoch 4/10\n",
      "\u001b[1m4/4\u001b[0m \u001b[32m━━━━━━━━━━━━━━━━━━━━\u001b[0m\u001b[37m\u001b[0m \u001b[1m1s\u001b[0m 130ms/step - loss: 1619.7811 - output_da_densenet_accuracy: 0.2710 - output_mci_densenet_accuracy: 0.3683 - output_nc_densenet_accuracy: 0.2802 - val_loss: 2136.3770 - val_output_da_densenet_accuracy: 0.2000 - val_output_mci_densenet_accuracy: 0.4000 - val_output_nc_densenet_accuracy: 0.2000\n",
      "Epoch 5/10\n",
      "\u001b[1m4/4\u001b[0m \u001b[32m━━━━━━━━━━━━━━━━━━━━\u001b[0m\u001b[37m\u001b[0m \u001b[1m1s\u001b[0m 125ms/step - loss: 2306.0493 - output_da_densenet_accuracy: 0.2465 - output_mci_densenet_accuracy: 0.3497 - output_nc_densenet_accuracy: 0.2465 - val_loss: 1853.3015 - val_output_da_densenet_accuracy: 0.4000 - val_output_mci_densenet_accuracy: 0.4000 - val_output_nc_densenet_accuracy: 0.4000\n",
      "Epoch 6/10\n",
      "\u001b[1m4/4\u001b[0m \u001b[32m━━━━━━━━━━━━━━━━━━━━\u001b[0m\u001b[37m\u001b[0m \u001b[1m1s\u001b[0m 118ms/step - loss: 2851.5781 - output_da_densenet_accuracy: 0.3360 - output_mci_densenet_accuracy: 0.1711 - output_nc_densenet_accuracy: 0.4258 - val_loss: 3147.3218 - val_output_da_densenet_accuracy: 0.2000 - val_output_mci_densenet_accuracy: 0.4000 - val_output_nc_densenet_accuracy: 0.2000\n",
      "Epoch 7/10\n",
      "\u001b[1m4/4\u001b[0m \u001b[32m━━━━━━━━━━━━━━━━━━━━\u001b[0m\u001b[37m\u001b[0m \u001b[1m0s\u001b[0m 117ms/step - loss: 3816.3491 - output_da_densenet_accuracy: 0.1986 - output_mci_densenet_accuracy: 0.3970 - output_nc_densenet_accuracy: 0.2737 - val_loss: 3724.8882 - val_output_da_densenet_accuracy: 0.4000 - val_output_mci_densenet_accuracy: 0.3500 - val_output_nc_densenet_accuracy: 0.2000\n",
      "Epoch 8/10\n",
      "\u001b[1m4/4\u001b[0m \u001b[32m━━━━━━━━━━━━━━━━━━━━\u001b[0m\u001b[37m\u001b[0m \u001b[1m0s\u001b[0m 118ms/step - loss: 4242.7144 - output_da_densenet_accuracy: 0.2867 - output_mci_densenet_accuracy: 0.2561 - output_nc_densenet_accuracy: 0.2259 - val_loss: 3850.2642 - val_output_da_densenet_accuracy: 0.2000 - val_output_mci_densenet_accuracy: 0.4000 - val_output_nc_densenet_accuracy: 0.4000\n",
      "Epoch 9/10\n",
      "\u001b[1m4/4\u001b[0m \u001b[32m━━━━━━━━━━━━━━━━━━━━\u001b[0m\u001b[37m\u001b[0m \u001b[1m1s\u001b[0m 120ms/step - loss: 4775.6167 - output_da_densenet_accuracy: 0.3355 - output_mci_densenet_accuracy: 0.4379 - output_nc_densenet_accuracy: 0.2026 - val_loss: 6784.3735 - val_output_da_densenet_accuracy: 0.4000 - val_output_mci_densenet_accuracy: 0.2000 - val_output_nc_densenet_accuracy: 0.4000\n",
      "Epoch 10/10\n",
      "\u001b[1m4/4\u001b[0m \u001b[32m━━━━━━━━━━━━━━━━━━━━\u001b[0m\u001b[37m\u001b[0m \u001b[1m1s\u001b[0m 126ms/step - loss: 8752.1602 - output_da_densenet_accuracy: 0.3263 - output_mci_densenet_accuracy: 0.4109 - output_nc_densenet_accuracy: 0.2830 - val_loss: 7238.1377 - val_output_da_densenet_accuracy: 0.2000 - val_output_mci_densenet_accuracy: 0.4000 - val_output_nc_densenet_accuracy: 0.4000\n"
     ]
    }
   ],
   "source": [
    "history_cnn = model_cnn.fit(X_train, {'output_nc': y_train, 'output_mci': y_train, 'output_da': y_train},\n",
    "                            validation_data=(X_test, {'output_nc': y_test, 'output_mci': y_test, 'output_da': y_test}),\n",
    "                            epochs=10, batch_size=32)\n",
    "\n",
    "history_densenet = model_densenet.fit(X_train, {'output_nc_densenet': y_train, 'output_mci_densenet': y_train, 'output_da_densenet': y_train},\n",
    "                                      validation_data=(X_test, {'output_nc_densenet': y_test, 'output_mci_densenet': y_test, 'output_da_densenet': y_test}),\n",
    "                                      epochs=10, batch_size=32)\n"
   ]
  },
  {
   "cell_type": "code",
   "execution_count": 72,
   "metadata": {},
   "outputs": [
    {
     "data": {
      "text/html": [
       "<pre style=\"white-space:pre;overflow-x:auto;line-height:normal;font-family:Menlo,'DejaVu Sans Mono',consolas,'Courier New',monospace\"><span style=\"font-weight: bold\">Model: \"functional_36\"</span>\n",
       "</pre>\n"
      ],
      "text/plain": [
       "\u001b[1mModel: \"functional_36\"\u001b[0m\n"
      ]
     },
     "metadata": {},
     "output_type": "display_data"
    },
    {
     "data": {
      "text/html": [
       "<pre style=\"white-space:pre;overflow-x:auto;line-height:normal;font-family:Menlo,'DejaVu Sans Mono',consolas,'Courier New',monospace\">┏━━━━━━━━━━━━━━━━━━━━━┳━━━━━━━━━━━━━━━━━━━┳━━━━━━━━━━━━┳━━━━━━━━━━━━━━━━━━━┓\n",
       "┃<span style=\"font-weight: bold\"> Layer (type)        </span>┃<span style=\"font-weight: bold\"> Output Shape      </span>┃<span style=\"font-weight: bold\">    Param # </span>┃<span style=\"font-weight: bold\"> Connected to      </span>┃\n",
       "┡━━━━━━━━━━━━━━━━━━━━━╇━━━━━━━━━━━━━━━━━━━╇━━━━━━━━━━━━╇━━━━━━━━━━━━━━━━━━━┩\n",
       "│ input_layer_22      │ (<span style=\"color: #00d7ff; text-decoration-color: #00d7ff\">None</span>, <span style=\"color: #00af00; text-decoration-color: #00af00\">128</span>, <span style=\"color: #00af00; text-decoration-color: #00af00\">128</span>,  │          <span style=\"color: #00af00; text-decoration-color: #00af00\">0</span> │ -                 │\n",
       "│ (<span style=\"color: #0087ff; text-decoration-color: #0087ff\">InputLayer</span>)        │ <span style=\"color: #00af00; text-decoration-color: #00af00\">1</span>)                │            │                   │\n",
       "├─────────────────────┼───────────────────┼────────────┼───────────────────┤\n",
       "│ functional_24       │ [(<span style=\"color: #00d7ff; text-decoration-color: #00d7ff\">None</span>, <span style=\"color: #00af00; text-decoration-color: #00af00\">3</span>),       │  <span style=\"color: #00af00; text-decoration-color: #00af00\">7,392,905</span> │ input_layer_22[<span style=\"color: #00af00; text-decoration-color: #00af00\">0</span>… │\n",
       "│ (<span style=\"color: #0087ff; text-decoration-color: #0087ff\">Functional</span>)        │ (<span style=\"color: #00d7ff; text-decoration-color: #00d7ff\">None</span>, <span style=\"color: #00af00; text-decoration-color: #00af00\">3</span>), (<span style=\"color: #00d7ff; text-decoration-color: #00d7ff\">None</span>, │            │                   │\n",
       "│                     │ <span style=\"color: #00af00; text-decoration-color: #00af00\">3</span>)]               │            │                   │\n",
       "├─────────────────────┼───────────────────┼────────────┼───────────────────┤\n",
       "│ functional_28       │ [(<span style=\"color: #00d7ff; text-decoration-color: #00d7ff\">None</span>, <span style=\"color: #00af00; text-decoration-color: #00af00\">3</span>),       │  <span style=\"color: #00af00; text-decoration-color: #00af00\">7,392,905</span> │ input_layer_22[<span style=\"color: #00af00; text-decoration-color: #00af00\">0</span>… │\n",
       "│ (<span style=\"color: #0087ff; text-decoration-color: #0087ff\">Functional</span>)        │ (<span style=\"color: #00d7ff; text-decoration-color: #00d7ff\">None</span>, <span style=\"color: #00af00; text-decoration-color: #00af00\">3</span>), (<span style=\"color: #00d7ff; text-decoration-color: #00d7ff\">None</span>, │            │                   │\n",
       "│                     │ <span style=\"color: #00af00; text-decoration-color: #00af00\">3</span>)]               │            │                   │\n",
       "├─────────────────────┼───────────────────┼────────────┼───────────────────┤\n",
       "│ average_9 (<span style=\"color: #0087ff; text-decoration-color: #0087ff\">Average</span>) │ (<span style=\"color: #00d7ff; text-decoration-color: #00d7ff\">None</span>, <span style=\"color: #00af00; text-decoration-color: #00af00\">3</span>)         │          <span style=\"color: #00af00; text-decoration-color: #00af00\">0</span> │ functional_24[<span style=\"color: #00af00; text-decoration-color: #00af00\">3</span>]… │\n",
       "│                     │                   │            │ functional_28[<span style=\"color: #00af00; text-decoration-color: #00af00\">3</span>]… │\n",
       "├─────────────────────┼───────────────────┼────────────┼───────────────────┤\n",
       "│ average_10          │ (<span style=\"color: #00d7ff; text-decoration-color: #00d7ff\">None</span>, <span style=\"color: #00af00; text-decoration-color: #00af00\">3</span>)         │          <span style=\"color: #00af00; text-decoration-color: #00af00\">0</span> │ functional_24[<span style=\"color: #00af00; text-decoration-color: #00af00\">3</span>]… │\n",
       "│ (<span style=\"color: #0087ff; text-decoration-color: #0087ff\">Average</span>)           │                   │            │ functional_28[<span style=\"color: #00af00; text-decoration-color: #00af00\">3</span>]… │\n",
       "├─────────────────────┼───────────────────┼────────────┼───────────────────┤\n",
       "│ average_11          │ (<span style=\"color: #00d7ff; text-decoration-color: #00d7ff\">None</span>, <span style=\"color: #00af00; text-decoration-color: #00af00\">3</span>)         │          <span style=\"color: #00af00; text-decoration-color: #00af00\">0</span> │ functional_24[<span style=\"color: #00af00; text-decoration-color: #00af00\">3</span>]… │\n",
       "│ (<span style=\"color: #0087ff; text-decoration-color: #0087ff\">Average</span>)           │                   │            │ functional_28[<span style=\"color: #00af00; text-decoration-color: #00af00\">3</span>]… │\n",
       "├─────────────────────┼───────────────────┼────────────┼───────────────────┤\n",
       "│ combined_output_nc  │ (<span style=\"color: #00d7ff; text-decoration-color: #00d7ff\">None</span>, <span style=\"color: #00af00; text-decoration-color: #00af00\">3</span>)         │         <span style=\"color: #00af00; text-decoration-color: #00af00\">12</span> │ average_9[<span style=\"color: #00af00; text-decoration-color: #00af00\">0</span>][<span style=\"color: #00af00; text-decoration-color: #00af00\">0</span>]   │\n",
       "│ (<span style=\"color: #0087ff; text-decoration-color: #0087ff\">Dense</span>)             │                   │            │                   │\n",
       "├─────────────────────┼───────────────────┼────────────┼───────────────────┤\n",
       "│ combined_output_mci │ (<span style=\"color: #00d7ff; text-decoration-color: #00d7ff\">None</span>, <span style=\"color: #00af00; text-decoration-color: #00af00\">3</span>)         │         <span style=\"color: #00af00; text-decoration-color: #00af00\">12</span> │ average_10[<span style=\"color: #00af00; text-decoration-color: #00af00\">0</span>][<span style=\"color: #00af00; text-decoration-color: #00af00\">0</span>]  │\n",
       "│ (<span style=\"color: #0087ff; text-decoration-color: #0087ff\">Dense</span>)             │                   │            │                   │\n",
       "├─────────────────────┼───────────────────┼────────────┼───────────────────┤\n",
       "│ combined_output_da  │ (<span style=\"color: #00d7ff; text-decoration-color: #00d7ff\">None</span>, <span style=\"color: #00af00; text-decoration-color: #00af00\">3</span>)         │         <span style=\"color: #00af00; text-decoration-color: #00af00\">12</span> │ average_11[<span style=\"color: #00af00; text-decoration-color: #00af00\">0</span>][<span style=\"color: #00af00; text-decoration-color: #00af00\">0</span>]  │\n",
       "│ (<span style=\"color: #0087ff; text-decoration-color: #0087ff\">Dense</span>)             │                   │            │                   │\n",
       "└─────────────────────┴───────────────────┴────────────┴───────────────────┘\n",
       "</pre>\n"
      ],
      "text/plain": [
       "┏━━━━━━━━━━━━━━━━━━━━━┳━━━━━━━━━━━━━━━━━━━┳━━━━━━━━━━━━┳━━━━━━━━━━━━━━━━━━━┓\n",
       "┃\u001b[1m \u001b[0m\u001b[1mLayer (type)       \u001b[0m\u001b[1m \u001b[0m┃\u001b[1m \u001b[0m\u001b[1mOutput Shape     \u001b[0m\u001b[1m \u001b[0m┃\u001b[1m \u001b[0m\u001b[1m   Param #\u001b[0m\u001b[1m \u001b[0m┃\u001b[1m \u001b[0m\u001b[1mConnected to     \u001b[0m\u001b[1m \u001b[0m┃\n",
       "┡━━━━━━━━━━━━━━━━━━━━━╇━━━━━━━━━━━━━━━━━━━╇━━━━━━━━━━━━╇━━━━━━━━━━━━━━━━━━━┩\n",
       "│ input_layer_22      │ (\u001b[38;5;45mNone\u001b[0m, \u001b[38;5;34m128\u001b[0m, \u001b[38;5;34m128\u001b[0m,  │          \u001b[38;5;34m0\u001b[0m │ -                 │\n",
       "│ (\u001b[38;5;33mInputLayer\u001b[0m)        │ \u001b[38;5;34m1\u001b[0m)                │            │                   │\n",
       "├─────────────────────┼───────────────────┼────────────┼───────────────────┤\n",
       "│ functional_24       │ [(\u001b[38;5;45mNone\u001b[0m, \u001b[38;5;34m3\u001b[0m),       │  \u001b[38;5;34m7,392,905\u001b[0m │ input_layer_22[\u001b[38;5;34m0\u001b[0m… │\n",
       "│ (\u001b[38;5;33mFunctional\u001b[0m)        │ (\u001b[38;5;45mNone\u001b[0m, \u001b[38;5;34m3\u001b[0m), (\u001b[38;5;45mNone\u001b[0m, │            │                   │\n",
       "│                     │ \u001b[38;5;34m3\u001b[0m)]               │            │                   │\n",
       "├─────────────────────┼───────────────────┼────────────┼───────────────────┤\n",
       "│ functional_28       │ [(\u001b[38;5;45mNone\u001b[0m, \u001b[38;5;34m3\u001b[0m),       │  \u001b[38;5;34m7,392,905\u001b[0m │ input_layer_22[\u001b[38;5;34m0\u001b[0m… │\n",
       "│ (\u001b[38;5;33mFunctional\u001b[0m)        │ (\u001b[38;5;45mNone\u001b[0m, \u001b[38;5;34m3\u001b[0m), (\u001b[38;5;45mNone\u001b[0m, │            │                   │\n",
       "│                     │ \u001b[38;5;34m3\u001b[0m)]               │            │                   │\n",
       "├─────────────────────┼───────────────────┼────────────┼───────────────────┤\n",
       "│ average_9 (\u001b[38;5;33mAverage\u001b[0m) │ (\u001b[38;5;45mNone\u001b[0m, \u001b[38;5;34m3\u001b[0m)         │          \u001b[38;5;34m0\u001b[0m │ functional_24[\u001b[38;5;34m3\u001b[0m]… │\n",
       "│                     │                   │            │ functional_28[\u001b[38;5;34m3\u001b[0m]… │\n",
       "├─────────────────────┼───────────────────┼────────────┼───────────────────┤\n",
       "│ average_10          │ (\u001b[38;5;45mNone\u001b[0m, \u001b[38;5;34m3\u001b[0m)         │          \u001b[38;5;34m0\u001b[0m │ functional_24[\u001b[38;5;34m3\u001b[0m]… │\n",
       "│ (\u001b[38;5;33mAverage\u001b[0m)           │                   │            │ functional_28[\u001b[38;5;34m3\u001b[0m]… │\n",
       "├─────────────────────┼───────────────────┼────────────┼───────────────────┤\n",
       "│ average_11          │ (\u001b[38;5;45mNone\u001b[0m, \u001b[38;5;34m3\u001b[0m)         │          \u001b[38;5;34m0\u001b[0m │ functional_24[\u001b[38;5;34m3\u001b[0m]… │\n",
       "│ (\u001b[38;5;33mAverage\u001b[0m)           │                   │            │ functional_28[\u001b[38;5;34m3\u001b[0m]… │\n",
       "├─────────────────────┼───────────────────┼────────────┼───────────────────┤\n",
       "│ combined_output_nc  │ (\u001b[38;5;45mNone\u001b[0m, \u001b[38;5;34m3\u001b[0m)         │         \u001b[38;5;34m12\u001b[0m │ average_9[\u001b[38;5;34m0\u001b[0m][\u001b[38;5;34m0\u001b[0m]   │\n",
       "│ (\u001b[38;5;33mDense\u001b[0m)             │                   │            │                   │\n",
       "├─────────────────────┼───────────────────┼────────────┼───────────────────┤\n",
       "│ combined_output_mci │ (\u001b[38;5;45mNone\u001b[0m, \u001b[38;5;34m3\u001b[0m)         │         \u001b[38;5;34m12\u001b[0m │ average_10[\u001b[38;5;34m0\u001b[0m][\u001b[38;5;34m0\u001b[0m]  │\n",
       "│ (\u001b[38;5;33mDense\u001b[0m)             │                   │            │                   │\n",
       "├─────────────────────┼───────────────────┼────────────┼───────────────────┤\n",
       "│ combined_output_da  │ (\u001b[38;5;45mNone\u001b[0m, \u001b[38;5;34m3\u001b[0m)         │         \u001b[38;5;34m12\u001b[0m │ average_11[\u001b[38;5;34m0\u001b[0m][\u001b[38;5;34m0\u001b[0m]  │\n",
       "│ (\u001b[38;5;33mDense\u001b[0m)             │                   │            │                   │\n",
       "└─────────────────────┴───────────────────┴────────────┴───────────────────┘\n"
      ]
     },
     "metadata": {},
     "output_type": "display_data"
    },
    {
     "data": {
      "text/html": [
       "<pre style=\"white-space:pre;overflow-x:auto;line-height:normal;font-family:Menlo,'DejaVu Sans Mono',consolas,'Courier New',monospace\"><span style=\"font-weight: bold\"> Total params: </span><span style=\"color: #00af00; text-decoration-color: #00af00\">14,785,846</span> (56.40 MB)\n",
       "</pre>\n"
      ],
      "text/plain": [
       "\u001b[1m Total params: \u001b[0m\u001b[38;5;34m14,785,846\u001b[0m (56.40 MB)\n"
      ]
     },
     "metadata": {},
     "output_type": "display_data"
    },
    {
     "data": {
      "text/html": [
       "<pre style=\"white-space:pre;overflow-x:auto;line-height:normal;font-family:Menlo,'DejaVu Sans Mono',consolas,'Courier New',monospace\"><span style=\"font-weight: bold\"> Trainable params: </span><span style=\"color: #00af00; text-decoration-color: #00af00\">14,785,846</span> (56.40 MB)\n",
       "</pre>\n"
      ],
      "text/plain": [
       "\u001b[1m Trainable params: \u001b[0m\u001b[38;5;34m14,785,846\u001b[0m (56.40 MB)\n"
      ]
     },
     "metadata": {},
     "output_type": "display_data"
    },
    {
     "data": {
      "text/html": [
       "<pre style=\"white-space:pre;overflow-x:auto;line-height:normal;font-family:Menlo,'DejaVu Sans Mono',consolas,'Courier New',monospace\"><span style=\"font-weight: bold\"> Non-trainable params: </span><span style=\"color: #00af00; text-decoration-color: #00af00\">0</span> (0.00 B)\n",
       "</pre>\n"
      ],
      "text/plain": [
       "\u001b[1m Non-trainable params: \u001b[0m\u001b[38;5;34m0\u001b[0m (0.00 B)\n"
      ]
     },
     "metadata": {},
     "output_type": "display_data"
    }
   ],
   "source": [
    "from tensorflow.keras.layers import Average\n",
    "\n",
    "\n",
    "input_layer_combined = Input(shape=(128, 128, 1)) \n",
    "\n",
    "\n",
    "output_cnn = model_cnn(input_layer_combined)\n",
    "output_densenet = model_densenet(input_layer_combined)\n",
    "\n",
    "\n",
    "combined_output_nc = Dense(3, activation='softmax', name='combined_output_nc')(\n",
    "    Average()([output_cnn[0], output_densenet[0]]))\n",
    "combined_output_mci = Dense(3, activation='softmax', name='combined_output_mci')(\n",
    "    Average()([output_cnn[1], output_densenet[1]]))\n",
    "combined_output_da = Dense(3, activation='softmax', name='combined_output_da')(\n",
    "    Average()([output_cnn[2], output_densenet[2]]))\n",
    "\n",
    "\n",
    "model_combined = Model(inputs=input_layer_combined,\n",
    "                       outputs=[combined_output_nc, combined_output_mci, combined_output_da])\n",
    "\n",
    "\n",
    "model_combined.compile(optimizer='adam',\n",
    "                       loss={'combined_output_nc': 'categorical_crossentropy',\n",
    "                             'combined_output_mci': 'categorical_crossentropy',\n",
    "                             'combined_output_da': 'categorical_crossentropy'},\n",
    "                       metrics={'combined_output_nc': 'accuracy',\n",
    "                                'combined_output_mci': 'accuracy',\n",
    "                                'combined_output_da': 'accuracy'})\n",
    "\n"
   ]
  },
  {
   "cell_type": "markdown",
   "metadata": {},
   "source": [
    "Treinamento combinação modelos"
   ]
  },
  {
   "cell_type": "code",
   "execution_count": 74,
   "metadata": {},
   "outputs": [
    {
     "name": "stdout",
     "output_type": "stream",
     "text": [
      "Epoch 1/10\n",
      "\u001b[1m4/4\u001b[0m \u001b[32m━━━━━━━━━━━━━━━━━━━━\u001b[0m\u001b[37m\u001b[0m \u001b[1m1s\u001b[0m 244ms/step - combined_output_da_accuracy: 0.2910 - combined_output_mci_accuracy: 0.2910 - combined_output_nc_accuracy: 0.1894 - loss: 0.0000e+00 - output_da_accuracy: 0.0000e+00 - output_da_densenet_accuracy: 0.0000e+00 - output_mci_accuracy: 0.0000e+00 - output_mci_densenet_accuracy: 0.0000e+00 - output_nc_accuracy: 0.0000e+00 - output_nc_densenet_accuracy: 0.0000e+00 - val_combined_output_da_accuracy: 0.4000 - val_combined_output_mci_accuracy: 0.4000 - val_combined_output_nc_accuracy: 0.2000 - val_loss: 0.0000e+00 - val_output_da_accuracy: 0.0000e+00 - val_output_da_densenet_accuracy: 0.0000e+00 - val_output_mci_accuracy: 0.0000e+00 - val_output_mci_densenet_accuracy: 0.0000e+00 - val_output_nc_accuracy: 0.0000e+00 - val_output_nc_densenet_accuracy: 0.0000e+00\n",
      "Epoch 2/10\n",
      "\u001b[1m4/4\u001b[0m \u001b[32m━━━━━━━━━━━━━━━━━━━━\u001b[0m\u001b[37m\u001b[0m \u001b[1m1s\u001b[0m 248ms/step - combined_output_da_accuracy: 0.2806 - combined_output_mci_accuracy: 0.2806 - combined_output_nc_accuracy: 0.1915 - loss: 0.0000e+00 - output_da_accuracy: 0.0000e+00 - output_da_densenet_accuracy: 0.0000e+00 - output_mci_accuracy: 0.0000e+00 - output_mci_densenet_accuracy: 0.0000e+00 - output_nc_accuracy: 0.0000e+00 - output_nc_densenet_accuracy: 0.0000e+00 - val_combined_output_da_accuracy: 0.4000 - val_combined_output_mci_accuracy: 0.4000 - val_combined_output_nc_accuracy: 0.2000 - val_loss: 0.0000e+00 - val_output_da_accuracy: 0.0000e+00 - val_output_da_densenet_accuracy: 0.0000e+00 - val_output_mci_accuracy: 0.0000e+00 - val_output_mci_densenet_accuracy: 0.0000e+00 - val_output_nc_accuracy: 0.0000e+00 - val_output_nc_densenet_accuracy: 0.0000e+00\n",
      "Epoch 3/10\n",
      "\u001b[1m4/4\u001b[0m \u001b[32m━━━━━━━━━━━━━━━━━━━━\u001b[0m\u001b[37m\u001b[0m \u001b[1m1s\u001b[0m 235ms/step - combined_output_da_accuracy: 0.3025 - combined_output_mci_accuracy: 0.3025 - combined_output_nc_accuracy: 0.1925 - loss: 0.0000e+00 - output_da_accuracy: 0.0000e+00 - output_da_densenet_accuracy: 0.0000e+00 - output_mci_accuracy: 0.0000e+00 - output_mci_densenet_accuracy: 0.0000e+00 - output_nc_accuracy: 0.0000e+00 - output_nc_densenet_accuracy: 0.0000e+00 - val_combined_output_da_accuracy: 0.4000 - val_combined_output_mci_accuracy: 0.4000 - val_combined_output_nc_accuracy: 0.2000 - val_loss: 0.0000e+00 - val_output_da_accuracy: 0.0000e+00 - val_output_da_densenet_accuracy: 0.0000e+00 - val_output_mci_accuracy: 0.0000e+00 - val_output_mci_densenet_accuracy: 0.0000e+00 - val_output_nc_accuracy: 0.0000e+00 - val_output_nc_densenet_accuracy: 0.0000e+00\n",
      "Epoch 4/10\n",
      "\u001b[1m4/4\u001b[0m \u001b[32m━━━━━━━━━━━━━━━━━━━━\u001b[0m\u001b[37m\u001b[0m \u001b[1m1s\u001b[0m 237ms/step - combined_output_da_accuracy: 0.2795 - combined_output_mci_accuracy: 0.2795 - combined_output_nc_accuracy: 0.2092 - loss: 0.0000e+00 - output_da_accuracy: 0.0000e+00 - output_da_densenet_accuracy: 0.0000e+00 - output_mci_accuracy: 0.0000e+00 - output_mci_densenet_accuracy: 0.0000e+00 - output_nc_accuracy: 0.0000e+00 - output_nc_densenet_accuracy: 0.0000e+00 - val_combined_output_da_accuracy: 0.4000 - val_combined_output_mci_accuracy: 0.4000 - val_combined_output_nc_accuracy: 0.2000 - val_loss: 0.0000e+00 - val_output_da_accuracy: 0.0000e+00 - val_output_da_densenet_accuracy: 0.0000e+00 - val_output_mci_accuracy: 0.0000e+00 - val_output_mci_densenet_accuracy: 0.0000e+00 - val_output_nc_accuracy: 0.0000e+00 - val_output_nc_densenet_accuracy: 0.0000e+00\n",
      "Epoch 5/10\n",
      "\u001b[1m4/4\u001b[0m \u001b[32m━━━━━━━━━━━━━━━━━━━━\u001b[0m\u001b[37m\u001b[0m \u001b[1m1s\u001b[0m 237ms/step - combined_output_da_accuracy: 0.2952 - combined_output_mci_accuracy: 0.2952 - combined_output_nc_accuracy: 0.2154 - loss: 0.0000e+00 - output_da_accuracy: 0.0000e+00 - output_da_densenet_accuracy: 0.0000e+00 - output_mci_accuracy: 0.0000e+00 - output_mci_densenet_accuracy: 0.0000e+00 - output_nc_accuracy: 0.0000e+00 - output_nc_densenet_accuracy: 0.0000e+00 - val_combined_output_da_accuracy: 0.4000 - val_combined_output_mci_accuracy: 0.4000 - val_combined_output_nc_accuracy: 0.2000 - val_loss: 0.0000e+00 - val_output_da_accuracy: 0.0000e+00 - val_output_da_densenet_accuracy: 0.0000e+00 - val_output_mci_accuracy: 0.0000e+00 - val_output_mci_densenet_accuracy: 0.0000e+00 - val_output_nc_accuracy: 0.0000e+00 - val_output_nc_densenet_accuracy: 0.0000e+00\n",
      "Epoch 6/10\n",
      "\u001b[1m4/4\u001b[0m \u001b[32m━━━━━━━━━━━━━━━━━━━━\u001b[0m\u001b[37m\u001b[0m \u001b[1m1s\u001b[0m 232ms/step - combined_output_da_accuracy: 0.3108 - combined_output_mci_accuracy: 0.3108 - combined_output_nc_accuracy: 0.1883 - loss: 0.0000e+00 - output_da_accuracy: 0.0000e+00 - output_da_densenet_accuracy: 0.0000e+00 - output_mci_accuracy: 0.0000e+00 - output_mci_densenet_accuracy: 0.0000e+00 - output_nc_accuracy: 0.0000e+00 - output_nc_densenet_accuracy: 0.0000e+00 - val_combined_output_da_accuracy: 0.4000 - val_combined_output_mci_accuracy: 0.4000 - val_combined_output_nc_accuracy: 0.2000 - val_loss: 0.0000e+00 - val_output_da_accuracy: 0.0000e+00 - val_output_da_densenet_accuracy: 0.0000e+00 - val_output_mci_accuracy: 0.0000e+00 - val_output_mci_densenet_accuracy: 0.0000e+00 - val_output_nc_accuracy: 0.0000e+00 - val_output_nc_densenet_accuracy: 0.0000e+00\n",
      "Epoch 7/10\n",
      "\u001b[1m4/4\u001b[0m \u001b[32m━━━━━━━━━━━━━━━━━━━━\u001b[0m\u001b[37m\u001b[0m \u001b[1m1s\u001b[0m 233ms/step - combined_output_da_accuracy: 0.2712 - combined_output_mci_accuracy: 0.2712 - combined_output_nc_accuracy: 0.2165 - loss: 0.0000e+00 - output_da_accuracy: 0.0000e+00 - output_da_densenet_accuracy: 0.0000e+00 - output_mci_accuracy: 0.0000e+00 - output_mci_densenet_accuracy: 0.0000e+00 - output_nc_accuracy: 0.0000e+00 - output_nc_densenet_accuracy: 0.0000e+00 - val_combined_output_da_accuracy: 0.4000 - val_combined_output_mci_accuracy: 0.4000 - val_combined_output_nc_accuracy: 0.2000 - val_loss: 0.0000e+00 - val_output_da_accuracy: 0.0000e+00 - val_output_da_densenet_accuracy: 0.0000e+00 - val_output_mci_accuracy: 0.0000e+00 - val_output_mci_densenet_accuracy: 0.0000e+00 - val_output_nc_accuracy: 0.0000e+00 - val_output_nc_densenet_accuracy: 0.0000e+00\n",
      "Epoch 8/10\n",
      "\u001b[1m4/4\u001b[0m \u001b[32m━━━━━━━━━━━━━━━━━━━━\u001b[0m\u001b[37m\u001b[0m \u001b[1m1s\u001b[0m 241ms/step - combined_output_da_accuracy: 0.3150 - combined_output_mci_accuracy: 0.3150 - combined_output_nc_accuracy: 0.2185 - loss: 0.0000e+00 - output_da_accuracy: 0.0000e+00 - output_da_densenet_accuracy: 0.0000e+00 - output_mci_accuracy: 0.0000e+00 - output_mci_densenet_accuracy: 0.0000e+00 - output_nc_accuracy: 0.0000e+00 - output_nc_densenet_accuracy: 0.0000e+00 - val_combined_output_da_accuracy: 0.4000 - val_combined_output_mci_accuracy: 0.4000 - val_combined_output_nc_accuracy: 0.2000 - val_loss: 0.0000e+00 - val_output_da_accuracy: 0.0000e+00 - val_output_da_densenet_accuracy: 0.0000e+00 - val_output_mci_accuracy: 0.0000e+00 - val_output_mci_densenet_accuracy: 0.0000e+00 - val_output_nc_accuracy: 0.0000e+00 - val_output_nc_densenet_accuracy: 0.0000e+00\n",
      "Epoch 9/10\n",
      "\u001b[1m4/4\u001b[0m \u001b[32m━━━━━━━━━━━━━━━━━━━━\u001b[0m\u001b[37m\u001b[0m \u001b[1m1s\u001b[0m 239ms/step - combined_output_da_accuracy: 0.2952 - combined_output_mci_accuracy: 0.2952 - combined_output_nc_accuracy: 0.2290 - loss: 0.0000e+00 - output_da_accuracy: 0.0000e+00 - output_da_densenet_accuracy: 0.0000e+00 - output_mci_accuracy: 0.0000e+00 - output_mci_densenet_accuracy: 0.0000e+00 - output_nc_accuracy: 0.0000e+00 - output_nc_densenet_accuracy: 0.0000e+00 - val_combined_output_da_accuracy: 0.4000 - val_combined_output_mci_accuracy: 0.4000 - val_combined_output_nc_accuracy: 0.2000 - val_loss: 0.0000e+00 - val_output_da_accuracy: 0.0000e+00 - val_output_da_densenet_accuracy: 0.0000e+00 - val_output_mci_accuracy: 0.0000e+00 - val_output_mci_densenet_accuracy: 0.0000e+00 - val_output_nc_accuracy: 0.0000e+00 - val_output_nc_densenet_accuracy: 0.0000e+00\n",
      "Epoch 10/10\n",
      "\u001b[1m4/4\u001b[0m \u001b[32m━━━━━━━━━━━━━━━━━━━━\u001b[0m\u001b[37m\u001b[0m \u001b[1m1s\u001b[0m 244ms/step - combined_output_da_accuracy: 0.2879 - combined_output_mci_accuracy: 0.2879 - combined_output_nc_accuracy: 0.2227 - loss: 0.0000e+00 - output_da_accuracy: 0.0000e+00 - output_da_densenet_accuracy: 0.0000e+00 - output_mci_accuracy: 0.0000e+00 - output_mci_densenet_accuracy: 0.0000e+00 - output_nc_accuracy: 0.0000e+00 - output_nc_densenet_accuracy: 0.0000e+00 - val_combined_output_da_accuracy: 0.4000 - val_combined_output_mci_accuracy: 0.4000 - val_combined_output_nc_accuracy: 0.2000 - val_loss: 0.0000e+00 - val_output_da_accuracy: 0.0000e+00 - val_output_da_densenet_accuracy: 0.0000e+00 - val_output_mci_accuracy: 0.0000e+00 - val_output_mci_densenet_accuracy: 0.0000e+00 - val_output_nc_accuracy: 0.0000e+00 - val_output_nc_densenet_accuracy: 0.0000e+00\n",
      "\u001b[1m1/1\u001b[0m \u001b[32m━━━━━━━━━━━━━━━━━━━━\u001b[0m\u001b[37m\u001b[0m \u001b[1m0s\u001b[0m 58ms/step - combined_output_da_accuracy: 0.4000 - combined_output_mci_accuracy: 0.4000 - combined_output_nc_accuracy: 0.2000 - loss: 0.0000e+00 - output_da_accuracy: 0.0000e+00 - output_da_densenet_accuracy: 0.0000e+00 - output_mci_accuracy: 0.0000e+00 - output_mci_densenet_accuracy: 0.0000e+00 - output_nc_accuracy: 0.0000e+00 - output_nc_densenet_accuracy: 0.0000e+00\n",
      "Loss: 0.0\n",
      "Acurácia NC: 0.0\n",
      "Acurácia MCI: 0.0\n",
      "Acurácia DA: 0.4000000059604645\n"
     ]
    }
   ],
   "source": [
    "history_combined = model_combined.fit(X_train,\n",
    "                                     {'combined_output_nc': y_train, 'combined_output_mci': y_train, 'combined_output_da': y_train},\n",
    "                                     validation_data=(X_test,\n",
    "                                                      {'combined_output_nc': y_test, 'combined_output_mci': y_test, 'combined_output_da': y_test}),\n",
    "                                     epochs=10, batch_size=32)\n",
    "\n",
    "\n",
    "results = model_combined.evaluate(X_test,\n",
    "                                  {'combined_output_nc': y_test, 'combined_output_mci': y_test, 'combined_output_da': y_test})\n",
    "\n",
    "\n",
    "loss = results[0]\n",
    "acc_nc = results[1]\n",
    "acc_mci = results[2]\n",
    "acc_da = results[3]\n",
    "\n",
    "print(f\"Loss: {loss}\")\n",
    "print(f\"Acurácia NC: {acc_nc}\")\n",
    "print(f\"Acurácia MCI: {acc_mci}\")\n",
    "print(f\"Acurácia DA: {acc_da}\")"
   ]
  },
  {
   "cell_type": "code",
   "execution_count": 88,
   "metadata": {},
   "outputs": [
    {
     "name": "stdout",
     "output_type": "stream",
     "text": [
      "\u001b[1m4/4\u001b[0m \u001b[32m━━━━━━━━━━━━━━━━━━━━\u001b[0m\u001b[37m\u001b[0m \u001b[1m0s\u001b[0m 36ms/step\n",
      "Desvio Padrão das Previsões: 0.10892697423696518\n"
     ]
    }
   ],
   "source": [
    "import numpy as np\n",
    "\n",
    "\n",
    "predictions_train = model_combined.predict(X_train)\n",
    "\n",
    "\n",
    "std_deviation = np.std(predictions_train)\n",
    "\n",
    "print(f\"Desvio Padrão das Previsões: {std_deviation}\")\n"
   ]
  },
  {
   "cell_type": "code",
   "execution_count": 89,
   "metadata": {},
   "outputs": [
    {
     "name": "stdout",
     "output_type": "stream",
     "text": [
      "Coeficiente de Similaridade de Jaccard: 0.3795454545454545\n"
     ]
    }
   ],
   "source": [
    "\n",
    "def jaccard_similarity_coefficient(y_true, y_pred):\n",
    "    intersection = np.sum(np.minimum(y_true, y_pred))\n",
    "    union = np.sum(np.maximum(y_true, y_pred))\n",
    "    return intersection / union\n",
    "\n",
    "\n",
    "predictions_train_classes = np.argmax(predictions_train, axis=-1)\n",
    "y_train_classes = np.argmax(y_train, axis=-1)\n",
    "\n",
    "\n",
    "jaccard_similarity = jaccard_similarity_coefficient(y_train_classes, predictions_train_classes)\n",
    "\n",
    "print(f\"Coeficiente de Similaridade de Jaccard: {jaccard_similarity}\")"
   ]
  },
  {
   "cell_type": "code",
   "execution_count": 122,
   "metadata": {},
   "outputs": [
    {
     "name": "stdout",
     "output_type": "stream",
     "text": [
      "AUC NC: 1.0\n",
      "AUC MCI: 1.0\n",
      "AUC DA: 1.0\n"
     ]
    }
   ],
   "source": [
    "from sklearn.metrics import roc_auc_score\n",
    "import numpy as np\n",
    "\n",
    "\n",
    "predictions_train_array = np.array(predictions_train)\n",
    "\n",
    "\n",
    "y_train_classes = np.argmax(y_train, axis=1)\n",
    "\n",
    "\n",
    "auc_nc = roc_auc_score((y_train_classes == 0).astype(int), predictions_train_array[:, 0])\n",
    "auc_mci = roc_auc_score((y_train_classes == 1).astype(int), predictions_train_array[:, 1])\n",
    "auc_da = roc_auc_score((y_train_classes == 2).astype(int), predictions_train_array[:, 2])\n",
    "\n",
    "print(f\"AUC NC: {auc_nc}\")\n",
    "print(f\"AUC MCI: {auc_mci}\")\n",
    "print(f\"AUC DA: {auc_da}\")\n",
    "\n"
   ]
  },
  {
   "cell_type": "code",
   "execution_count": 123,
   "metadata": {},
   "outputs": [
    {
     "name": "stdout",
     "output_type": "stream",
     "text": [
      "Desvio Padrão (Treinamento): [[[0.27979591]\n",
      "  [0.2858786 ]\n",
      "  [0.29391499]\n",
      "  ...\n",
      "  [0.31257587]\n",
      "  [0.29436152]\n",
      "  [0.27536017]]\n",
      "\n",
      " [[0.31586358]\n",
      "  [0.26298826]\n",
      "  [0.3071377 ]\n",
      "  ...\n",
      "  [0.279102  ]\n",
      "  [0.28797988]\n",
      "  [0.29725758]]\n",
      "\n",
      " [[0.28829517]\n",
      "  [0.28508321]\n",
      "  [0.31047972]\n",
      "  ...\n",
      "  [0.2748418 ]\n",
      "  [0.27770476]\n",
      "  [0.25721112]]\n",
      "\n",
      " ...\n",
      "\n",
      " [[0.29286919]\n",
      "  [0.28221415]\n",
      "  [0.28058384]\n",
      "  ...\n",
      "  [0.27787163]\n",
      "  [0.28502711]\n",
      "  [0.29434321]]\n",
      "\n",
      " [[0.2679376 ]\n",
      "  [0.28446832]\n",
      "  [0.26371736]\n",
      "  ...\n",
      "  [0.29414459]\n",
      "  [0.29345042]\n",
      "  [0.28671864]]\n",
      "\n",
      " [[0.30582797]\n",
      "  [0.29610616]\n",
      "  [0.28863542]\n",
      "  ...\n",
      "  [0.29296269]\n",
      "  [0.25209707]\n",
      "  [0.26577789]]]\n",
      "Desvio Padrão (Validação): [[[0.26862894]\n",
      "  [0.28498587]\n",
      "  [0.26051279]\n",
      "  ...\n",
      "  [0.31193762]\n",
      "  [0.32997624]\n",
      "  [0.26513169]]\n",
      "\n",
      " [[0.2508592 ]\n",
      "  [0.27847648]\n",
      "  [0.23717125]\n",
      "  ...\n",
      "  [0.24683851]\n",
      "  [0.27262915]\n",
      "  [0.28507644]]\n",
      "\n",
      " [[0.32662891]\n",
      "  [0.27735096]\n",
      "  [0.2923065 ]\n",
      "  ...\n",
      "  [0.29353099]\n",
      "  [0.30016033]\n",
      "  [0.27885538]]\n",
      "\n",
      " ...\n",
      "\n",
      " [[0.26993608]\n",
      "  [0.27719233]\n",
      "  [0.25257343]\n",
      "  ...\n",
      "  [0.20005007]\n",
      "  [0.32272041]\n",
      "  [0.2895854 ]]\n",
      "\n",
      " [[0.3195167 ]\n",
      "  [0.30801159]\n",
      "  [0.24477857]\n",
      "  ...\n",
      "  [0.25290229]\n",
      "  [0.28132171]\n",
      "  [0.278779  ]]\n",
      "\n",
      " [[0.26265564]\n",
      "  [0.34414815]\n",
      "  [0.30054917]\n",
      "  ...\n",
      "  [0.2575603 ]\n",
      "  [0.31588146]\n",
      "  [0.29567202]]]\n"
     ]
    }
   ],
   "source": [
    "import numpy as np\n",
    "\n",
    "\n",
    "def calcular_desvio_padrao(data):\n",
    "    return np.std(data, axis=0)\n",
    "\n",
    "\n",
    "std_train = calcular_desvio_padrao(X_train)\n",
    "std_validation = calcular_desvio_padrao(X_test)\n",
    "\n",
    "print(f\"Desvio Padrão (Treinamento): {std_train}\")\n",
    "print(f\"Desvio Padrão (Validação): {std_validation}\")"
   ]
  },
  {
   "cell_type": "code",
   "execution_count": 124,
   "metadata": {},
   "outputs": [
    {
     "name": "stdout",
     "output_type": "stream",
     "text": [
      "Coeficiente de Similaridade de Dados (Treinamento vs. Validação): 0.7500643896507188\n"
     ]
    }
   ],
   "source": [
    "from sklearn.metrics.pairwise import cosine_similarity\n",
    "\n",
    "\n",
    "def calcular_coeficiente_similaridade(data1, data2):\n",
    "    similarity = cosine_similarity(data1, data2)\n",
    "    return similarity.mean()\n",
    "\n",
    "\n",
    "similarity_train_validation = calcular_coeficiente_similaridade(X_train.reshape(len(X_train), -1), X_test.reshape(len(X_test), -1))\n",
    "\n",
    "print(f\"Coeficiente de Similaridade de Dados (Treinamento vs. Validação): {similarity_train_validation}\")"
   ]
  },
  {
   "cell_type": "code",
   "execution_count": 145,
   "metadata": {},
   "outputs": [
    {
     "name": "stdout",
     "output_type": "stream",
     "text": [
      "AUC (Treinamento - NC): 0.75\n",
      "AUC (Treinamento - MCI): 0.25\n",
      "AUC (Treinamento - DA): 0.5\n"
     ]
    }
   ],
   "source": [
    "from sklearn.metrics import roc_auc_score\n",
    "import numpy as np\n",
    "\n",
    "y_true_train = {\n",
    "    'combined_output_nc': np.array([0, 1, 1, 0]), \n",
    "    'combined_output_mci': np.array([1, 0, 1, 0]), \n",
    "    'combined_output_da': np.array([0, 1, 0, 1])\n",
    "}\n",
    "\n",
    "y_pred_train = {\n",
    "    'combined_output_nc': np.array([0.2, 0.8, 0.4, 0.6]),\n",
    "    'combined_output_mci': np.array([0.3, 0.6, 0.7, 0.9]),\n",
    "    'combined_output_da': np.array([0.1, 0.4, 0.5, 0.3]) \n",
    "}\n",
    "\n",
    "# Exemplo de dados de treinamento\n",
    "y_true_train = {\n",
    "    'combined_output_nc': np.array([0, 1, 1, 0]),\n",
    "    'combined_output_mci': np.array([1, 0, 1, 0]), \n",
    "    'combined_output_da': np.array([0, 1, 0, 1]) \n",
    "}\n",
    "\n",
    "y_pred_train = {\n",
    "    'combined_output_nc': np.array([0.2, 0.8, 0.4, 0.6]),  \n",
    "    'combined_output_mci': np.array([0.3, 0.6, 0.7, 0.9]),\n",
    "    'combined_output_da': np.array([0.1, 0.4, 0.5, 0.3]) \n",
    "}\n",
    "\n",
    "\n",
    "\n",
    "auc_train_nc = roc_auc_score(y_true_train['combined_output_nc'], y_pred_train['combined_output_nc'])\n",
    "auc_train_mci = roc_auc_score(y_true_train['combined_output_mci'], y_pred_train['combined_output_mci'])\n",
    "auc_train_da = roc_auc_score(y_true_train['combined_output_da'], y_pred_train['combined_output_da'])\n",
    "\n",
    "print(f\"AUC (Treinamento - NC): {auc_train_nc}\")\n",
    "print(f\"AUC (Treinamento - MCI): {auc_train_mci}\")\n",
    "print(f\"AUC (Treinamento - DA): {auc_train_da}\")\n",
    "\n",
    "\n"
   ]
  }
 ],
 "metadata": {
  "kernelspec": {
   "display_name": "Python 3.10.5 64-bit",
   "language": "python",
   "name": "python3"
  },
  "language_info": {
   "codemirror_mode": {
    "name": "ipython",
    "version": 3
   },
   "file_extension": ".py",
   "mimetype": "text/x-python",
   "name": "python",
   "nbconvert_exporter": "python",
   "pygments_lexer": "ipython3",
   "version": "3.10.5"
  },
  "orig_nbformat": 4,
  "vscode": {
   "interpreter": {
    "hash": "26de051ba29f2982a8de78e945f0abaf191376122a1563185a90213a26c5da77"
   }
  }
 },
 "nbformat": 4,
 "nbformat_minor": 2
}

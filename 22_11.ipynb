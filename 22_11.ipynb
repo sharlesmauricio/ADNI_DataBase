{
  "nbformat": 4,
  "nbformat_minor": 0,
  "metadata": {
    "colab": {
      "provenance": [],
      "authorship_tag": "ABX9TyOVpMDITvT0m3DIvMCQt/EP",
      "include_colab_link": true
    },
    "kernelspec": {
      "name": "python3",
      "display_name": "Python 3"
    },
    "language_info": {
      "name": "python"
    }
  },
  "cells": [
    {
      "cell_type": "markdown",
      "metadata": {
        "id": "view-in-github",
        "colab_type": "text"
      },
      "source": [
        "<a href=\"https://colab.research.google.com/github/sharlesmauricio/ADNI_DataBase/blob/main/22_11.ipynb\" target=\"_parent\"><img src=\"https://colab.research.google.com/assets/colab-badge.svg\" alt=\"Open In Colab\"/></a>"
      ]
    },
    {
      "cell_type": "markdown",
      "source": [
        "https://www.youtube.com/watch?v=otEFXsa8fXc&list=PLI3eIHxETjX4a5NMmgayg3wuM232fYIxy&index=2\n",
        "\n"
      ],
      "metadata": {
        "id": "daoyt6cvxcaQ"
      }
    },
    {
      "cell_type": "code",
      "source": [
        "from google.colab import drive\n",
        "drive.mount('/content/drive')"
      ],
      "metadata": {
        "colab": {
          "base_uri": "https://localhost:8080/"
        },
        "id": "Uc5HX6E22WXt",
        "outputId": "6e3e4763-36cb-466f-f282-45cce6906803"
      },
      "execution_count": 1,
      "outputs": [
        {
          "output_type": "stream",
          "name": "stdout",
          "text": [
            "Drive already mounted at /content/drive; to attempt to forcibly remount, call drive.mount(\"/content/drive\", force_remount=True).\n"
          ]
        }
      ]
    },
    {
      "cell_type": "code",
      "execution_count": 2,
      "metadata": {
        "colab": {
          "base_uri": "https://localhost:8080/"
        },
        "id": "MYIYfra_xVk9",
        "outputId": "313b9d3c-7435-4be9-cf9b-9c3cb37fc7b7"
      },
      "outputs": [
        {
          "output_type": "stream",
          "name": "stdout",
          "text": [
            "Requirement already satisfied: ants in /usr/local/lib/python3.10/dist-packages (0.0.7)\n",
            "Requirement already satisfied: Django>=1.10.2 in /usr/local/lib/python3.10/dist-packages (from ants) (5.1.3)\n",
            "Requirement already satisfied: gevent>=1.1.1 in /usr/local/lib/python3.10/dist-packages (from ants) (24.11.1)\n",
            "Requirement already satisfied: asgiref<4,>=3.8.1 in /usr/local/lib/python3.10/dist-packages (from Django>=1.10.2->ants) (3.8.1)\n",
            "Requirement already satisfied: sqlparse>=0.3.1 in /usr/local/lib/python3.10/dist-packages (from Django>=1.10.2->ants) (0.5.2)\n",
            "Requirement already satisfied: zope.event in /usr/local/lib/python3.10/dist-packages (from gevent>=1.1.1->ants) (5.0)\n",
            "Requirement already satisfied: zope.interface in /usr/local/lib/python3.10/dist-packages (from gevent>=1.1.1->ants) (7.1.1)\n",
            "Requirement already satisfied: greenlet>=3.1.1 in /usr/local/lib/python3.10/dist-packages (from gevent>=1.1.1->ants) (3.1.1)\n",
            "Requirement already satisfied: typing-extensions>=4 in /usr/local/lib/python3.10/dist-packages (from asgiref<4,>=3.8.1->Django>=1.10.2->ants) (4.12.2)\n",
            "Requirement already satisfied: setuptools in /usr/local/lib/python3.10/dist-packages (from zope.event->gevent>=1.1.1->ants) (75.1.0)\n"
          ]
        }
      ],
      "source": [
        "pip install ants"
      ]
    },
    {
      "cell_type": "code",
      "source": [
        "pip install SimpleITK"
      ],
      "metadata": {
        "colab": {
          "base_uri": "https://localhost:8080/"
        },
        "id": "4eZLUq5fyLGb",
        "outputId": "1ea42bbe-9cbd-4324-b8cd-733fe7307d9d"
      },
      "execution_count": 3,
      "outputs": [
        {
          "output_type": "stream",
          "name": "stdout",
          "text": [
            "Requirement already satisfied: SimpleITK in /usr/local/lib/python3.10/dist-packages (2.4.0)\n"
          ]
        }
      ]
    },
    {
      "cell_type": "code",
      "source": [
        "!pip install antspyx --quiet"
      ],
      "metadata": {
        "id": "KsKG5eGT5bUX"
      },
      "execution_count": 4,
      "outputs": []
    },
    {
      "cell_type": "code",
      "source": [
        "!apt-get update -qq\n",
        "!apt-get install -y libglib2.0-0 libsm6 libxrender1 libxext6  # Install system dependencies\n",
        "!pip install antspyx --quiet # Install antspyx via pip\n",
        "import os # Import the os module for environment variable manipulation\n",
        "os.environ['LD_LIBRARY_PATH'] = '/path/to/your/libraries'  # Replace '/path/to/your/libraries' with the actual path to your shared libraries\n",
        "import antspyx as ants # Import the module"
      ],
      "metadata": {
        "colab": {
          "base_uri": "https://localhost:8080/",
          "height": 566
        },
        "id": "kNm7GN8D5fww",
        "outputId": "aaaa285b-8fe1-483b-beef-97fa5c785339"
      },
      "execution_count": 7,
      "outputs": [
        {
          "output_type": "stream",
          "name": "stdout",
          "text": [
            "W: Skipping acquire of configured file 'main/source/Sources' as repository 'https://r2u.stat.illinois.edu/ubuntu jammy InRelease' does not seem to provide it (sources.list entry misspelt?)\n",
            "Reading package lists... Done\n",
            "Building dependency tree... Done\n",
            "Reading state information... Done\n",
            "libsm6 is already the newest version (2:1.2.3-1build2).\n",
            "libxext6 is already the newest version (2:1.3.4-1build1).\n",
            "libxrender1 is already the newest version (1:0.9.10-1build4).\n",
            "libglib2.0-0 is already the newest version (2.72.4-0ubuntu2.4).\n",
            "0 upgraded, 0 newly installed, 0 to remove and 49 not upgraded.\n"
          ]
        },
        {
          "output_type": "error",
          "ename": "ModuleNotFoundError",
          "evalue": "No module named 'antspyx'",
          "traceback": [
            "\u001b[0;31m---------------------------------------------------------------------------\u001b[0m",
            "\u001b[0;31mModuleNotFoundError\u001b[0m                       Traceback (most recent call last)",
            "\u001b[0;32m<ipython-input-7-a9bce680e1e8>\u001b[0m in \u001b[0;36m<cell line: 6>\u001b[0;34m()\u001b[0m\n\u001b[1;32m      4\u001b[0m \u001b[0;32mimport\u001b[0m \u001b[0mos\u001b[0m \u001b[0;31m# Import the os module for environment variable manipulation\u001b[0m\u001b[0;34m\u001b[0m\u001b[0;34m\u001b[0m\u001b[0m\n\u001b[1;32m      5\u001b[0m \u001b[0mos\u001b[0m\u001b[0;34m.\u001b[0m\u001b[0menviron\u001b[0m\u001b[0;34m[\u001b[0m\u001b[0;34m'LD_LIBRARY_PATH'\u001b[0m\u001b[0;34m]\u001b[0m \u001b[0;34m=\u001b[0m \u001b[0;34m'/path/to/your/libraries'\u001b[0m  \u001b[0;31m# Replace '/path/to/your/libraries' with the actual path to your shared libraries\u001b[0m\u001b[0;34m\u001b[0m\u001b[0;34m\u001b[0m\u001b[0m\n\u001b[0;32m----> 6\u001b[0;31m \u001b[0;32mimport\u001b[0m \u001b[0mantspyx\u001b[0m \u001b[0;32mas\u001b[0m \u001b[0mants\u001b[0m \u001b[0;31m# Import the module\u001b[0m\u001b[0;34m\u001b[0m\u001b[0;34m\u001b[0m\u001b[0m\n\u001b[0m",
            "\u001b[0;31mModuleNotFoundError\u001b[0m: No module named 'antspyx'",
            "",
            "\u001b[0;31m---------------------------------------------------------------------------\u001b[0;32m\nNOTE: If your import is failing due to a missing package, you can\nmanually install dependencies using either !pip or !apt.\n\nTo view examples of installing some common dependencies, click the\n\"Open Examples\" button below.\n\u001b[0;31m---------------------------------------------------------------------------\u001b[0m\n"
          ],
          "errorDetails": {
            "actions": [
              {
                "action": "open_url",
                "actionText": "Open Examples",
                "url": "/notebooks/snippets/importing_libraries.ipynb"
              }
            ]
          }
        }
      ]
    },
    {
      "cell_type": "code",
      "source": [
        "import antspyx as ants"
      ],
      "metadata": {
        "colab": {
          "base_uri": "https://localhost:8080/",
          "height": 327
        },
        "id": "C89eU6665rwv",
        "outputId": "c5e3103c-8e31-4bf4-f9ba-d7e7a79d665f"
      },
      "execution_count": 6,
      "outputs": [
        {
          "output_type": "error",
          "ename": "ModuleNotFoundError",
          "evalue": "No module named 'antspyx'",
          "traceback": [
            "\u001b[0;31m---------------------------------------------------------------------------\u001b[0m",
            "\u001b[0;31mModuleNotFoundError\u001b[0m                       Traceback (most recent call last)",
            "\u001b[0;32m<ipython-input-6-c058c6626c6f>\u001b[0m in \u001b[0;36m<cell line: 1>\u001b[0;34m()\u001b[0m\n\u001b[0;32m----> 1\u001b[0;31m \u001b[0;32mimport\u001b[0m \u001b[0mantspyx\u001b[0m \u001b[0;32mas\u001b[0m \u001b[0mants\u001b[0m\u001b[0;34m\u001b[0m\u001b[0;34m\u001b[0m\u001b[0m\n\u001b[0m",
            "\u001b[0;31mModuleNotFoundError\u001b[0m: No module named 'antspyx'",
            "",
            "\u001b[0;31m---------------------------------------------------------------------------\u001b[0;32m\nNOTE: If your import is failing due to a missing package, you can\nmanually install dependencies using either !pip or !apt.\n\nTo view examples of installing some common dependencies, click the\n\"Open Examples\" button below.\n\u001b[0;31m---------------------------------------------------------------------------\u001b[0m\n"
          ],
          "errorDetails": {
            "actions": [
              {
                "action": "open_url",
                "actionText": "Open Examples",
                "url": "/notebooks/snippets/importing_libraries.ipynb"
              }
            ]
          }
        }
      ]
    },
    {
      "cell_type": "code",
      "source": [
        "# Ativar a mágica do matplotlib para renderizar gráficos no notebook\n",
        "%matplotlib inline\n",
        "\n",
        "# Verificar se os pacotes estão instalados e instalá-los, se necessário\n",
        "!pip install antspyx SimpleITK --quiet\n",
        "\n",
        "# Importar os pacotes necessários\n",
        "import ants\n",
        "import SimpleITK as sitk\n",
        "\n",
        "# Verificar a instalação e exibir informações sobre os pacotes\n",
        "print(f'Ants library loaded: {ants}')\n",
        "print(f'SimpleITK version = {sitk.Version_VersionString() if hasattr(sitk, \"Version_VersionString\") else \"Unknown\"}')\n"
      ],
      "metadata": {
        "id": "uNFUMrLaxbnn"
      },
      "execution_count": null,
      "outputs": []
    },
    {
      "cell_type": "code",
      "source": [
        "#Import antspyx again if the error persists:\n",
        "import antspyx\n",
        "ants = antspyx"
      ],
      "metadata": {
        "id": "NP-2cV5945Z_"
      },
      "execution_count": null,
      "outputs": []
    },
    {
      "cell_type": "code",
      "source": [
        "nii_dir = ('/content/drive/MyDrive/ADNI_Arquivos_Originais/Nii')\n",
        "print(f'nii_dir = {nii_dir}')"
      ],
      "metadata": {
        "id": "3G5Hmr6i2LM5"
      },
      "execution_count": null,
      "outputs": []
    },
    {
      "cell_type": "code",
      "source": [
        "raw_img_path = os.path.join(nii_dir, 'assets', 'raw_examples', 'fsl-open-dev_sub-001_T1w.nii.gz')\n",
        "print(f'raw_img_path = {raw_img_path}')"
      ],
      "metadata": {
        "id": "YHoz33AK2_lg"
      },
      "execution_count": null,
      "outputs": []
    },
    {
      "cell_type": "markdown",
      "source": [
        "AntsPY"
      ],
      "metadata": {
        "id": "tUdaUjPV3YDP"
      }
    },
    {
      "cell_type": "code",
      "source": [
        "raw_img_ants = ants.image_read(raw_img_path)\n",
        "print(f'raw_img_ants = {raw_img_ants}')"
      ],
      "metadata": {
        "id": "8GmlcxKG3Ykg"
      },
      "execution_count": null,
      "outputs": []
    }
  ]
}